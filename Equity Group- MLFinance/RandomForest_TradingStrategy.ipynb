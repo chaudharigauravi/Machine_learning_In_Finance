{
 "cells": [
  {
   "cell_type": "code",
   "execution_count": 1,
   "metadata": {
    "collapsed": true
   },
   "outputs": [],
   "source": [
    "import numpy as np\n",
    "import matplotlib.pyplot as plt\n",
    "%matplotlib inline\n",
    "import pandas as pd\n",
    "from statsmodels.tsa.arima_process import ArmaProcess\n",
    "from pandas_datareader import data as wb \n",
    "from scipy.stats import norm"
   ]
  },
  {
   "cell_type": "code",
   "execution_count": 2,
   "metadata": {
    "collapsed": true
   },
   "outputs": [],
   "source": [
    "#min_rmsevals = np.random.randint(5,30,size = 20)"
   ]
  },
  {
   "cell_type": "code",
   "execution_count": 3,
   "metadata": {
    "collapsed": true
   },
   "outputs": [],
   "source": [
    "#we take mean prediction for regression in ensemble models for same data sample"
   ]
  },
  {
   "cell_type": "code",
   "execution_count": 4,
   "metadata": {},
   "outputs": [],
   "source": [
    "#Bootstrap Samples\n",
    "main_df = pd.read_csv('alldata.csv')"
   ]
  },
  {
   "cell_type": "code",
   "execution_count": 85,
   "metadata": {
    "collapsed": true
   },
   "outputs": [],
   "source": [
    "df_3 = pd.read_csv('alldata.csv')"
   ]
  },
  {
   "cell_type": "code",
   "execution_count": 5,
   "metadata": {
    "collapsed": true
   },
   "outputs": [],
   "source": [
    "main_df = main_df[['TSLA','SP500','Mkt-RF','SMB','HML','Vol TSLA']]"
   ]
  },
  {
   "cell_type": "code",
   "execution_count": 64,
   "metadata": {
    "collapsed": true
   },
   "outputs": [],
   "source": [
    "df_2 = main_df[:]"
   ]
  },
  {
   "cell_type": "code",
   "execution_count": 6,
   "metadata": {
    "collapsed": true
   },
   "outputs": [],
   "source": [
    "train_dat = pd.DataFrame(main_df[:500])"
   ]
  },
  {
   "cell_type": "code",
   "execution_count": 7,
   "metadata": {},
   "outputs": [
    {
     "data": {
      "text/plain": [
       "pandas.core.frame.DataFrame"
      ]
     },
     "execution_count": 7,
     "metadata": {},
     "output_type": "execute_result"
    }
   ],
   "source": [
    "type(train_dat)"
   ]
  },
  {
   "cell_type": "code",
   "execution_count": 28,
   "metadata": {},
   "outputs": [],
   "source": [
    "test_dat = main_df[501:670]"
   ]
  },
  {
   "cell_type": "code",
   "execution_count": 9,
   "metadata": {
    "collapsed": true
   },
   "outputs": [],
   "source": [
    "def bootstrapSamp():\n",
    "    k = train_dat.sample(n = 500, replace = True)\n",
    "    return k"
   ]
  },
  {
   "cell_type": "code",
   "execution_count": 10,
   "metadata": {},
   "outputs": [],
   "source": [
    "bootsampList = []\n",
    "for i in range(0,5):\n",
    "    bootsampList.append(bootstrapSamp())"
   ]
  },
  {
   "cell_type": "code",
   "execution_count": 29,
   "metadata": {},
   "outputs": [
    {
     "data": {
      "text/plain": [
       "(500, 8)"
      ]
     },
     "execution_count": 29,
     "metadata": {},
     "output_type": "execute_result"
    }
   ],
   "source": [
    "bootsampList[0].shape"
   ]
  },
  {
   "cell_type": "code",
   "execution_count": 30,
   "metadata": {},
   "outputs": [
    {
     "data": {
      "text/plain": [
       "5"
      ]
     },
     "execution_count": 30,
     "metadata": {},
     "output_type": "execute_result"
    }
   ],
   "source": [
    "len(bootsampList)"
   ]
  },
  {
   "cell_type": "code",
   "execution_count": 12,
   "metadata": {
    "collapsed": true
   },
   "outputs": [],
   "source": [
    "RMSe_list1 = []"
   ]
  },
  {
   "cell_type": "code",
   "execution_count": 13,
   "metadata": {
    "collapsed": true
   },
   "outputs": [],
   "source": [
    "def calcRMSe(yhat,yact):\n",
    "    yhat = np.asarray(yhat)\n",
    "    yact = np.asarray(yact)\n",
    "    rmse = (((np.sum((yhat-yact)**2))/500)**0.5)\n",
    "    return rmse"
   ]
  },
  {
   "cell_type": "code",
   "execution_count": 48,
   "metadata": {
    "collapsed": true
   },
   "outputs": [],
   "source": [
    "mod_list = []"
   ]
  },
  {
   "cell_type": "code",
   "execution_count": 58,
   "metadata": {
    "collapsed": true
   },
   "outputs": [],
   "source": [
    "def applytoModels(bootsampList):\n",
    "    for s in bootsampList:\n",
    "        \n",
    "        Y=s['TSLA']\n",
    "        X=s['SP500']\n",
    "        Y = pd.DataFrame(Y)\n",
    "        X = pd.DataFrame(X)\n",
    "        Y=np.matrix(Y)\n",
    "        X=np.matrix(X)\n",
    "        \n",
    "        #First model CAPM\n",
    "        intercept_arr1 = [1]*len(s[\"SP500\"])\n",
    "        XT1 = np.matrix(np.asarray([np.asarray(intercept_arr1),np.asarray(s['SP500'])]) )\n",
    "        XTT1 = np.matrix(np.transpose(XT1))\n",
    "        mult_1 = XT1*XTT1\n",
    "        B1 = np.matrix(((np.linalg.inv(mult_1))*XT1)*Y)\n",
    "        y_CAPM = np.matrix(XTT1*B1)\n",
    "        \n",
    "        #Second Model. Fama and French 3 factor model\n",
    "        intercept_arr2 = [1]*len(s)\n",
    "        XT2 = np.matrix(np.asarray([np.asarray(intercept_arr2),\n",
    "                                np.asarray(s['Mkt-RF']), \n",
    "                                np.asarray(s['SMB']), \n",
    "                                np.asarray(s['HML'])]))\n",
    "        XTT2 = np.matrix(np.transpose(XT2))\n",
    "        mult_2 = XT2*XTT2\n",
    "        B2 = np.matrix(((np.linalg.inv(mult_2))*XT2)*Y)\n",
    "        y_3Factor = np.matrix(XTT2*B2)\n",
    "        \n",
    "        #Third model : previous return model\n",
    "        intercept_arr3 = [1]*len(s)\n",
    "        YT=np.matrix(Y)                \n",
    "        XT3 = np.matrix(np.asarray([np.asarray(intercept_arr3),\n",
    "                                np.asarray(s['TSLA'])])) \n",
    "        XTT3 = np.matrix(np.transpose(XT3))\n",
    "        mult_3 = XT3*XTT3\n",
    "        B3 = np.matrix(((np.linalg.inv(mult_3))*XT3)*Y)\n",
    "        y_PRM = np.matrix(XTT3*B3)\n",
    "        T=s[\"TSLA\"]\n",
    "        T_final=T.shift(-1)\n",
    "        T_final=np.matrix(T_final)\n",
    "        TfT = np.matrix(np.transpose(T_final))\n",
    "        residual_3=TfT-y_PRM\n",
    "        rmse3=np.asarray(residual_3)\n",
    "        rmse3 = rmse3[~np.isnan(rmse3)]\n",
    "        rmse33=rmse3*rmse3\n",
    "        rmse333=np.sum(rmse33)\n",
    "        rmse33 = (rmse333/499)**0.5\n",
    "        \n",
    "        \n",
    "        #Fourth Model:  log function\n",
    "        intercept_arr4 = [1]*len(s)\n",
    "        s['log_ret'] = np.log(s['Vol TSLA'])\n",
    "        XT4 = np.matrix(np.asarray([np.asarray(intercept_arr4),\n",
    "                                np.asarray(s['TSLA']), \n",
    "                                np.asarray(s['log_ret'])]))\n",
    "        XTT4 = np.matrix(np.transpose(XT4))\n",
    "        mult_4 = XT4*XTT4\n",
    "        B4 = np.matrix(((np.linalg.inv(mult_4))*XT4)*Y)\n",
    "        s['TSLA_PREV'] = s['TSLA'].shift(-1)\n",
    "        x=np.matrix(s['TSLA_PREV'])\n",
    "        z=np.matrix(np.transpose(x))\n",
    "        y_log = np.matrix(XTT4*B4)\n",
    "        \n",
    "        intercept_arr1 = [1]*len(test_dat)\n",
    "        XT1 = np.matrix(np.asarray([np.asarray(intercept_arr1),np.asarray(test_dat['SP500'])]) )\n",
    "        XTT1 = np.matrix(np.transpose(XT1))\n",
    "        y_CAPM = np.matrix(XTT1*B1)\n",
    "        \n",
    "        \n",
    "        intercept_arr2 = [1]*len(test_dat)\n",
    "        XT2 = np.matrix(np.asarray([np.asarray(intercept_arr2),\n",
    "                                np.asarray(test_dat['Mkt-RF']), \n",
    "                                np.asarray(test_dat['SMB']), \n",
    "                                np.asarray(test_dat['HML'])]))\n",
    "        XTT2 = np.matrix(np.transpose(XT2))\n",
    "        y_3Factor = np.matrix(XTT2*B2)\n",
    "        \n",
    "        intercept_arr3 = [1]*len(test_dat)\n",
    "        YT=np.matrix(Y)                \n",
    "        XT3 = np.matrix(np.asarray([np.asarray(intercept_arr3),\n",
    "                                np.asarray(test_dat['TSLA'])])) \n",
    "        XTT3 = np.matrix(np.transpose(XT3))\n",
    "        y_PRM = np.matrix(XTT3*B3)\n",
    "        \n",
    "        intercept_arr4 = [1]*len(test_dat)\n",
    "        test_dat['log_ret'] = np.log(test_dat['Vol TSLA'])\n",
    "        XT4 = np.matrix(np.asarray([np.asarray(intercept_arr4),\n",
    "                                np.asarray(test_dat['TSLA']), \n",
    "                                np.asarray(test_dat['log_ret'])]))\n",
    "        XTT4 = np.matrix(np.transpose(XT4))\n",
    "        y_log = np.matrix(XTT4*B4)\n",
    "        mod_list.append(y_log)\n",
    "        temp1 = []\n",
    "        temp1.append(calcRMSe(y_CAPM,test_dat['TSLA']))\n",
    "        temp1.append(calcRMSe(y_3Factor,test_dat['TSLA']))\n",
    "        temp1.append(calcRMSe(y_PRM, test_dat['TSLA']))\n",
    "        temp1.append(calcRMSe(y_log,test_dat['TSLA']))\n",
    "        RMSe_list1.append(temp1)"
   ]
  },
  {
   "cell_type": "code",
   "execution_count": 59,
   "metadata": {},
   "outputs": [
    {
     "name": "stderr",
     "output_type": "stream",
     "text": [
      "/Users/shrikumarpatil/anaconda3/lib/python3.6/site-packages/ipykernel_launcher.py:87: SettingWithCopyWarning: \n",
      "A value is trying to be set on a copy of a slice from a DataFrame.\n",
      "Try using .loc[row_indexer,col_indexer] = value instead\n",
      "\n",
      "See the caveats in the documentation: http://pandas.pydata.org/pandas-docs/stable/indexing.html#indexing-view-versus-copy\n"
     ]
    }
   ],
   "source": [
    "applytoModels(bootsampList)"
   ]
  },
  {
   "cell_type": "code",
   "execution_count": 60,
   "metadata": {},
   "outputs": [
    {
     "data": {
      "text/plain": [
       "5"
      ]
     },
     "execution_count": 60,
     "metadata": {},
     "output_type": "execute_result"
    }
   ],
   "source": [
    "len(RMSe_list1)"
   ]
  },
  {
   "cell_type": "code",
   "execution_count": 61,
   "metadata": {},
   "outputs": [
    {
     "data": {
      "text/plain": [
       "[[530.63889751221802,\n",
       "  448.11065563489331,\n",
       "  268.89860480262655,\n",
       "  268.8986048026286],\n",
       " [534.51412775073936,\n",
       "  479.29481021443195,\n",
       "  268.89860480262928,\n",
       "  268.8986048026282],\n",
       " [513.90174661738035,\n",
       "  509.7835046705589,\n",
       "  268.89860480262911,\n",
       "  268.89860480262814],\n",
       " [545.09650783568338,\n",
       "  502.21405535328688,\n",
       "  268.8986048026361,\n",
       "  268.89860480262809],\n",
       " [582.15117286766986,\n",
       "  457.36345353670117,\n",
       "  268.89860480263121,\n",
       "  268.89860480262752]]"
      ]
     },
     "execution_count": 61,
     "metadata": {},
     "output_type": "execute_result"
    }
   ],
   "source": [
    "RMSe_list1"
   ]
  },
  {
   "cell_type": "markdown",
   "metadata": {},
   "source": [
    "def evaluateonTest(bootsampList):\n",
    "    for s in bootsampList:\n",
    "        #y1\n",
    "        #y2\n",
    "        #y3\n",
    "        #y4\n",
    "        templ = []\n",
    "        temp1.append[calcRMSe(y1,test_dat['TSLA'])]\n",
    "        temp1.append[calcRMSe(y2,test_dat['TSLA'])]\n",
    "        temp1.append[calcRMSe(y3,test_dat['TSLA'])]\n",
    "        temp1.append[calcRMSe(y4,test_dat['TSLA'])]\n",
    "        RMSe_list1.append(temp1)"
   ]
  },
  {
   "cell_type": "code",
   "execution_count": 62,
   "metadata": {
    "collapsed": true
   },
   "outputs": [],
   "source": [
    "#dictionary with key:min rmse for that subsample and value is the index\n",
    "min_rmsind_model = []\n",
    "for v in RMSe_list1:\n",
    "    #temp_minval = min(v)\n",
    "    temp_minind = np.argmin(np.asarray(v))\n",
    "    min_rmsind_model.append(temp_minind)"
   ]
  },
  {
   "cell_type": "markdown",
   "metadata": {},
   "source": [
    "#the model which occurs max times ie which has minimum rmse most number of times\n",
    "from collections import defaultdict\n",
    "d = defaultdict(int)\n",
    "for i in min_rmsind_model:\n",
    "    d[i] += 1\n",
    "result = max(d.iteritems(), key=lambda x: x[1])\n",
    "print(result)"
   ]
  },
  {
   "cell_type": "code",
   "execution_count": 63,
   "metadata": {},
   "outputs": [
    {
     "data": {
      "text/plain": [
       "[2, 3, 3, 3, 3]"
      ]
     },
     "execution_count": 63,
     "metadata": {},
     "output_type": "execute_result"
    }
   ],
   "source": [
    "min_rmsind_model"
   ]
  },
  {
   "cell_type": "code",
   "execution_count": null,
   "metadata": {
    "collapsed": true
   },
   "outputs": [],
   "source": [
    "#Log model performs best 4 times, hence for prediction, we average values for ensemble, and choose log model."
   ]
  },
  {
   "cell_type": "code",
   "execution_count": 90,
   "metadata": {},
   "outputs": [],
   "source": [
    "mod_list2 = []\n",
    "for a in mod_list:\n",
    "    mod_list2.append(np.asarray(a))"
   ]
  },
  {
   "cell_type": "code",
   "execution_count": 104,
   "metadata": {
    "collapsed": true
   },
   "outputs": [],
   "source": [
    "p1 = mod_list2[0]\n",
    "p2 = mod_list2[1]\n",
    "p3 = mod_list2[2]\n",
    "p4 = mod_list2[3]\n",
    "p5 = mod_list2[4]"
   ]
  },
  {
   "cell_type": "code",
   "execution_count": 105,
   "metadata": {},
   "outputs": [],
   "source": [
    "preds1 = []\n",
    "for v in p1:\n",
    "    temp = v[0]\n",
    "    preds1.append(temp)\n",
    "preds2 = []\n",
    "for v in p2:\n",
    "    temp = v[0]\n",
    "    preds2.append(temp)\n",
    "preds3 = []\n",
    "for v in p3:\n",
    "    temp = v[0]\n",
    "    preds3.append(temp)\n",
    "preds4 = []\n",
    "for v in p4:\n",
    "    temp = v[0]\n",
    "    preds4.append(temp)\n",
    "preds5 = []\n",
    "for v in p5:\n",
    "    temp = v[0]\n",
    "    preds5.append(temp)"
   ]
  },
  {
   "cell_type": "code",
   "execution_count": 106,
   "metadata": {
    "collapsed": true
   },
   "outputs": [],
   "source": [
    "y_pred = [sum(x)*0.2 for x in zip(preds1, preds2, preds3, preds4, preds5)]"
   ]
  },
  {
   "cell_type": "code",
   "execution_count": 108,
   "metadata": {},
   "outputs": [
    {
     "data": {
      "text/plain": [
       "169"
      ]
     },
     "execution_count": 108,
     "metadata": {},
     "output_type": "execute_result"
    }
   ],
   "source": [
    "len(y_pred)"
   ]
  },
  {
   "cell_type": "code",
   "execution_count": 109,
   "metadata": {
    "collapsed": true
   },
   "outputs": [],
   "source": [
    "residuals = np.matrix(y_pred - test_dat['TSLA'])"
   ]
  },
  {
   "cell_type": "code",
   "execution_count": 110,
   "metadata": {
    "collapsed": true
   },
   "outputs": [],
   "source": [
    "n_samples = 169\n",
    "from numpy.linalg import inv              \n",
    "variance = ((1/n_samples)*(residuals.T))*(residuals)"
   ]
  },
  {
   "cell_type": "code",
   "execution_count": 113,
   "metadata": {},
   "outputs": [
    {
     "data": {
      "text/plain": [
       "matrix([[  6.43175754e-26,   6.20997279e-26,   6.32086517e-26, ...,\n",
       "           8.09514311e-26,   7.20800414e-26,   6.98621939e-26],\n",
       "        [  6.20997279e-26,   5.99583580e-26,   6.10290430e-26, ...,\n",
       "           7.81600024e-26,   6.95945227e-26,   6.74531528e-26],\n",
       "        [  6.32086517e-26,   6.10290430e-26,   6.21188473e-26, ...,\n",
       "           7.95557167e-26,   7.08372820e-26,   6.86576733e-26],\n",
       "        ..., \n",
       "        [  8.09514311e-26,   7.81600024e-26,   7.95557167e-26, ...,\n",
       "           1.01887146e-25,   9.07214314e-26,   8.79300027e-26],\n",
       "        [  7.20800414e-26,   6.95945227e-26,   7.08372820e-26, ...,\n",
       "           9.07214314e-26,   8.07793567e-26,   7.82938380e-26],\n",
       "        [  6.98621939e-26,   6.74531528e-26,   6.86576733e-26, ...,\n",
       "           8.79300027e-26,   7.82938380e-26,   7.58847969e-26]])"
      ]
     },
     "execution_count": 113,
     "metadata": {},
     "output_type": "execute_result"
    }
   ],
   "source": [
    "variance"
   ]
  },
  {
   "cell_type": "code",
   "execution_count": 111,
   "metadata": {},
   "outputs": [
    {
     "data": {
      "text/plain": [
       "matrix([[  2.53609100e-13,   2.49198170e-13,   2.51413308e-13, ...,\n",
       "           2.84519650e-13,   2.68477264e-13,   2.64314574e-13],\n",
       "        [  2.49198170e-13,   2.44863958e-13,   2.47040569e-13, ...,\n",
       "           2.79571104e-13,   2.63807738e-13,   2.59717448e-13],\n",
       "        [  2.51413308e-13,   2.47040569e-13,   2.49236529e-13, ...,\n",
       "           2.82056230e-13,   2.66152742e-13,   2.62026093e-13],\n",
       "        ..., \n",
       "        [  2.84519650e-13,   2.79571104e-13,   2.82056230e-13, ...,\n",
       "           3.19197660e-13,   3.01199986e-13,   2.96529936e-13],\n",
       "        [  2.68477264e-13,   2.63807738e-13,   2.66152742e-13, ...,\n",
       "           3.01199986e-13,   2.84217094e-13,   2.79810361e-13],\n",
       "        [  2.64314574e-13,   2.59717448e-13,   2.62026093e-13, ...,\n",
       "           2.96529936e-13,   2.79810361e-13,   2.75471953e-13]])"
      ]
     },
     "execution_count": 111,
     "metadata": {},
     "output_type": "execute_result"
    }
   ],
   "source": [
    "from numpy import sqrt\n",
    "std = sqrt(variance)\n",
    "std"
   ]
  },
  {
   "cell_type": "markdown",
   "metadata": {},
   "source": [
    "df_3['Bollinger_lower'] = df_3['Y_predicted'].apply(lambda x : x - std)\n",
    "df_3['Bollinger_upper'] = df_3['Y_predicted'].apply(lambda x : x + std)"
   ]
  },
  {
   "cell_type": "code",
   "execution_count": null,
   "metadata": {
    "collapsed": true
   },
   "outputs": [],
   "source": [
    "[x - std for x in y_pred]"
   ]
  },
  {
   "cell_type": "code",
   "execution_count": null,
   "metadata": {
    "collapsed": true
   },
   "outputs": [],
   "source": [
    "fig = plt.figure(figsize=(12,8))\n",
    "plt.plot(df3['observation_date'], df3['Bollinger_lower'], label = 'Bollinger_lower', color = 'blue')\n",
    "plt.plot(df3['observation_date'], df3['SP500'], label = 'Y_ACTUAL', color = 'green')\n",
    "plt.plot(df3['observation_date'], df3['Bollinger_upper'], label = 'Bollinger_upper', color = 'red')\n",
    "plt.title('Predicted SP500 daily index with respect to other 5 major stock prices')\n",
    "plt.xlabel('Daily timestamps - - - - - - - - - - >')\n",
    "plt.ylabel('SP500 value  - - - - - - - - - - >')\n",
    "plt.legend()\n",
    "plt.show()"
   ]
  },
  {
   "cell_type": "code",
   "execution_count": null,
   "metadata": {
    "collapsed": true
   },
   "outputs": [],
   "source": []
  },
  {
   "cell_type": "code",
   "execution_count": null,
   "metadata": {
    "collapsed": true
   },
   "outputs": [],
   "source": []
  },
  {
   "cell_type": "code",
   "execution_count": 75,
   "metadata": {
    "collapsed": true
   },
   "outputs": [],
   "source": [
    "# Moving Average based training signals for Apple stock\n",
    "short_window = 8\n",
    "long_window = 20\n",
    "\n",
    "signals = pd.DataFrame(index=df_2.index)\n",
    "signals['signal'] = 0.0\n",
    "\n",
    "signals['short_mavg'] = df_2['TSLA'].rolling(window=short_window, min_periods=1, center=False).mean()\n",
    "signals['long_mavg'] = df_2['TSLA'].rolling(window=long_window, min_periods=1, center=False).mean()\n",
    "signals['signal'][short_window:] = np.where(signals['short_mavg'][short_window:] \n",
    "                                            > signals['long_mavg'][short_window:], 1.0, 0.0)   \n",
    "signals['positions'] = signals['signal'].diff()"
   ]
  },
  {
   "cell_type": "code",
   "execution_count": 78,
   "metadata": {},
   "outputs": [
    {
     "data": {
      "image/png": "[encoded data removed]",
      "text/plain": [
       "<matplotlib.figure.Figure at 0x10ed8e320>"
      ]
     },
     "metadata": {},
     "output_type": "display_data"
    }
   ],
   "source": [
    "fig = plt.figure(figsize=(12,8))\n",
    "ax1 = fig.add_subplot(111,  ylabel='Price in $')\n",
    "df_2['TSLA'].plot(ax=ax1, color='r', lw=2.)\n",
    "\n",
    "\n",
    "signals[['short_mavg', 'long_mavg']].plot(ax=ax1, lw=2.)\n",
    "ax1.plot(signals.loc[signals.positions == 1.0].index, \n",
    "         signals.short_mavg[signals.positions == 1.0],\n",
    "         '^', markersize=10, color='y')\n",
    "\n",
    "ax1.plot(signals.loc[signals.positions == -1.0].index, \n",
    "         signals.short_mavg[signals.positions == -1.0],\n",
    "         'v', markersize=10, color='k')\n",
    "         \n",
    "plt.show()"
   ]
  },
  {
   "cell_type": "code",
   "execution_count": null,
   "metadata": {
    "collapsed": true
   },
   "outputs": [],
   "source": []
  },
  {
   "cell_type": "code",
   "execution_count": 80,
   "metadata": {},
   "outputs": [
    {
     "name": "stderr",
     "output_type": "stream",
     "text": [
      "/Users/shrikumarpatil/anaconda3/lib/python3.6/site-packages/ipykernel_launcher.py:5: SettingWithCopyWarning: \n",
      "A value is trying to be set on a copy of a slice from a DataFrame.\n",
      "Try using .loc[row_indexer,col_indexer] = value instead\n",
      "\n",
      "See the caveats in the documentation: http://pandas.pydata.org/pandas-docs/stable/indexing.html#indexing-view-versus-copy\n",
      "  \"\"\"\n",
      "/Users/shrikumarpatil/anaconda3/lib/python3.6/site-packages/pandas/core/indexing.py:543: SettingWithCopyWarning: \n",
      "A value is trying to be set on a copy of a slice from a DataFrame.\n",
      "Try using .loc[row_indexer,col_indexer] = value instead\n",
      "\n",
      "See the caveats in the documentation: http://pandas.pydata.org/pandas-docs/stable/indexing.html#indexing-view-versus-copy\n",
      "  self.obj[item] = s\n",
      "/Users/shrikumarpatil/anaconda3/lib/python3.6/site-packages/ipykernel_launcher.py:13: DeprecationWarning: \n",
      ".ix is deprecated. Please use\n",
      ".loc for label based indexing or\n",
      ".iloc for positional indexing\n",
      "\n",
      "See the documentation here:\n",
      "http://pandas.pydata.org/pandas-docs/stable/indexing.html#ix-indexer-is-deprecated\n",
      "  del sys.path[0]\n",
      "/Users/shrikumarpatil/anaconda3/lib/python3.6/site-packages/ipykernel_launcher.py:14: DeprecationWarning: \n",
      ".ix is deprecated. Please use\n",
      ".loc for label based indexing or\n",
      ".iloc for positional indexing\n",
      "\n",
      "See the documentation here:\n",
      "http://pandas.pydata.org/pandas-docs/stable/indexing.html#ix-indexer-is-deprecated\n",
      "  \n"
     ]
    }
   ],
   "source": [
    "high = 65\n",
    "low = 12\n",
    " \n",
    "# By default, set everything to 0\n",
    "df_2['Signal'] = 0\n",
    "\n",
    "df_2.loc[df_2['TSLA'] > high, 'Signal'] = -1\n",
    " \n",
    "\n",
    "df_2.loc[df_2['TSLA'] < low, 'Signal'] = 1\n",
    " \n",
    "# We store only days where we go long/short, so that we can display them on the graph\n",
    "buys = df_2.ix[df_2['Signal'] == 1]\n",
    "sells = df_2.ix[df_2['Signal'] == -1]"
   ]
  },
  {
   "cell_type": "code",
   "execution_count": 72,
   "metadata": {
    "collapsed": true
   },
   "outputs": [],
   "source": [
    "# data = prices + dates at least\n",
    "def backtest(data):\n",
    "    cash = 100000\n",
    "    position = 0\n",
    "    total = 0\n",
    "     \n",
    "    data['Total'] = 100000\n",
    "    data['BuyHold'] = 100000\n",
    "    positionBeginning = int(100000/float(data.iloc[0]['TSLA']))\n",
    "    increment = 1000\n",
    "     \n",
    "    for row in data.iterrows():\n",
    "        price = float(row[1]['TSLA'])\n",
    "        signal = float(row[1]['Signal'])\n",
    "         \n",
    "        if(signal > 0 and cash - increment * price > 0):\n",
    "            # Buy\n",
    "            cash = cash - increment * price\n",
    "            position = position + increment\n",
    "            print(\" Position = \"+str(position)+\" Cash = \"+str(cash)+\" // Total = {:,}\".format(int(position*price+cash)))\n",
    "             \n",
    "        elif(signal < 0 and abs(position*price) < cash):\n",
    "            # Sell\n",
    "            cash = cash + increment * price\n",
    "            position = position - increment\n",
    "            print(\" Position = \"+str(position)+\" Cash = \"+str(cash)+\" // Total = {:,}\".format(int(position*price+cash)))\n",
    "             \n",
    "        data.loc[data.index == row[0], 'Total'] = float(position*price+cash)\n",
    "        data.loc[data.index == row[0], 'BuyHold'] = price*positionBeginning\n",
    "         \n",
    "    return position*price+cash"
   ]
  },
  {
   "cell_type": "code",
   "execution_count": 88,
   "metadata": {},
   "outputs": [
    {
     "name": "stdout",
     "output_type": "stream",
     "text": [
      " Position = -1000 Cash = 326920.0 // Total = 100,000\n",
      " Position = -2000 Cash = 550020.0 // Total = 103,820\n",
      "Backtest => 103,820 USD\n",
      "Annual return => 39.29142857142858%\n",
      "Volatility => 292.85010931035157%\n",
      "Sharpe => 0.13416907599576477\n"
     ]
    },
    {
     "name": "stderr",
     "output_type": "stream",
     "text": [
      "/Users/shrikumarpatil/anaconda3/lib/python3.6/site-packages/ipykernel_launcher.py:7: SettingWithCopyWarning: \n",
      "A value is trying to be set on a copy of a slice from a DataFrame.\n",
      "Try using .loc[row_indexer,col_indexer] = value instead\n",
      "\n",
      "See the caveats in the documentation: http://pandas.pydata.org/pandas-docs/stable/indexing.html#indexing-view-versus-copy\n",
      "  import sys\n",
      "/Users/shrikumarpatil/anaconda3/lib/python3.6/site-packages/ipykernel_launcher.py:8: SettingWithCopyWarning: \n",
      "A value is trying to be set on a copy of a slice from a DataFrame.\n",
      "Try using .loc[row_indexer,col_indexer] = value instead\n",
      "\n",
      "See the caveats in the documentation: http://pandas.pydata.org/pandas-docs/stable/indexing.html#indexing-view-versus-copy\n",
      "  \n",
      "/Users/shrikumarpatil/anaconda3/lib/python3.6/site-packages/pandas/core/indexing.py:543: SettingWithCopyWarning: \n",
      "A value is trying to be set on a copy of a slice from a DataFrame.\n",
      "Try using .loc[row_indexer,col_indexer] = value instead\n",
      "\n",
      "See the caveats in the documentation: http://pandas.pydata.org/pandas-docs/stable/indexing.html#indexing-view-versus-copy\n",
      "  self.obj[item] = s\n",
      "/Users/shrikumarpatil/anaconda3/lib/python3.6/site-packages/pandas/core/indexing.py:543: SettingWithCopyWarning: \n",
      "A value is trying to be set on a copy of a slice from a DataFrame.\n",
      "Try using .loc[row_indexer,col_indexer] = value instead\n",
      "\n",
      "See the caveats in the documentation: http://pandas.pydata.org/pandas-docs/stable/indexing.html#indexing-view-versus-copy\n",
      "  self.obj[item] = s\n",
      "/Users/shrikumarpatil/anaconda3/lib/python3.6/site-packages/pandas/core/indexing.py:543: SettingWithCopyWarning: \n",
      "A value is trying to be set on a copy of a slice from a DataFrame.\n",
      "Try using .loc[row_indexer,col_indexer] = value instead\n",
      "\n",
      "See the caveats in the documentation: http://pandas.pydata.org/pandas-docs/stable/indexing.html#indexing-view-versus-copy\n",
      "  self.obj[item] = s\n",
      "/Users/shrikumarpatil/anaconda3/lib/python3.6/site-packages/pandas/core/indexing.py:543: SettingWithCopyWarning: \n",
      "A value is trying to be set on a copy of a slice from a DataFrame.\n",
      "Try using .loc[row_indexer,col_indexer] = value instead\n",
      "\n",
      "See the caveats in the documentation: http://pandas.pydata.org/pandas-docs/stable/indexing.html#indexing-view-versus-copy\n",
      "  self.obj[item] = s\n",
      "/Users/shrikumarpatil/anaconda3/lib/python3.6/site-packages/ipykernel_launcher.py:11: SettingWithCopyWarning: \n",
      "A value is trying to be set on a copy of a slice from a DataFrame.\n",
      "Try using .loc[row_indexer,col_indexer] = value instead\n",
      "\n",
      "See the caveats in the documentation: http://pandas.pydata.org/pandas-docs/stable/indexing.html#indexing-view-versus-copy\n",
      "  # This is added back by InteractiveShellApp.init_path()\n"
     ]
    }
   ],
   "source": [
    "# Backtest\n",
    "backtestResult = int(backtest(df_2[0:2]))\n",
    "print((\"Backtest => {:,} USD\").format(backtestResult))\n",
    "perf = (float(backtestResult)/100000-1)*100\n",
    "daysDiff = 35\n",
    "perf = (perf/(daysDiff))*360\n",
    "print(\"Annual return => \"+str(perf)+\"%\")\n",
    " \n",
    " \n",
    "# Compute Sharpe ratio\n",
    "df_2[\"Return\"] = df_2[\"Total\"]/df_2[\"Total\"].shift(1)-1\n",
    "volatility = df_2[\"Return\"].std()*252\n",
    "sharpe = perf/volatility\n",
    "print(\"Volatility => \"+str(volatility)+\"%\")\n",
    "print(\"Sharpe => \"+str(sharpe))"
   ]
  },
  {
   "cell_type": "code",
   "execution_count": null,
   "metadata": {
    "collapsed": true
   },
   "outputs": [],
   "source": []
  },
  {
   "cell_type": "code",
   "execution_count": null,
   "metadata": {
    "collapsed": true
   },
   "outputs": [],
   "source": []
  },
  {
   "cell_type": "code",
   "execution_count": null,
   "metadata": {
    "collapsed": true
   },
   "outputs": [],
   "source": []
  },
  {
   "cell_type": "code",
   "execution_count": null,
   "metadata": {
    "collapsed": true
   },
   "outputs": [],
   "source": []
  },
  {
   "cell_type": "code",
   "execution_count": null,
   "metadata": {
    "collapsed": true
   },
   "outputs": [],
   "source": []
  },
  {
   "cell_type": "code",
   "execution_count": null,
   "metadata": {
    "collapsed": true
   },
   "outputs": [],
   "source": []
  }
 ],
 "metadata": {
  "kernelspec": {
   "display_name": "Python 3",
   "language": "python",
   "name": "python3"
  },
  "language_info": {
   "codemirror_mode": {
    "name": "ipython",
    "version": 3
   },
   "file_extension": ".py",
   "mimetype": "text/x-python",
   "name": "python",
   "nbconvert_exporter": "python",
   "pygments_lexer": "ipython3",
   "version": "3.6.3"
  }
 },
 "nbformat": 4,
 "nbformat_minor": 2
}
